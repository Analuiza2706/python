{
  "nbformat": 4,
  "nbformat_minor": 0,
  "metadata": {
    "colab": {
      "provenance": [],
      "authorship_tag": "ABX9TyMB31RZ7FrjECVVrfKgCk1k",
      "include_colab_link": true
    },
    "kernelspec": {
      "name": "python3",
      "display_name": "Python 3"
    },
    "language_info": {
      "name": "python"
    }
  },
  "cells": [
    {
      "cell_type": "markdown",
      "metadata": {
        "id": "view-in-github",
        "colab_type": "text"
      },
      "source": [
        "<a href=\"https://colab.research.google.com/github/Analuiza2706/python/blob/main/aula_python.ipynb\" target=\"_parent\"><img src=\"https://colab.research.google.com/assets/colab-badge.svg\" alt=\"Open In Colab\"/></a>"
      ]
    },
    {
      "cell_type": "markdown",
      "source": [
        "# **Aula** **1** 🐾❤️"
      ],
      "metadata": {
        "id": "HwoWTtxfyL-n"
      }
    },
    {
      "cell_type": "code",
      "execution_count": null,
      "metadata": {
        "colab": {
          "base_uri": "https://localhost:8080/"
        },
        "id": "8Ccd59wJxR64",
        "outputId": "905f577b-e963-46f7-b132-91a0d69ac17c"
      },
      "outputs": [
        {
          "output_type": "stream",
          "name": "stdout",
          "text": [
            "I competição de programação dá Start\n",
            "II competição de programação da Start\n",
            "II competição de programação da Start\n"
          ]
        }
      ],
      "source": [
        "print(\"I competição de programação dá Start\")\n",
        "ano = \"II\"\n",
        "print(ano, \"competição de programação da Start\")\n",
        "print(f\"{ano} competição de programação da Start\")"
      ]
    },
    {
      "cell_type": "markdown",
      "source": [
        "# **Aula** **2** ♡ 🔅"
      ],
      "metadata": {
        "id": "j85m3NwI02B3"
      }
    },
    {
      "cell_type": "code",
      "source": [
        "livro_ficcao = 8\n",
        "livro_n_ficcao = 10\n",
        "livro_infantil = 6\n",
        "pontos_rodrigo = livro_ficcao + livro_n_ficcao + livro_infantil\n",
        "print(f\"Os pontos totais doRodrigo são {pontos_rodrigo}\")"
      ],
      "metadata": {
        "id": "rkBw7_Ud06FO",
        "colab": {
          "base_uri": "https://localhost:8080/"
        },
        "outputId": "b95bf763-9814-47f0-fb78-34389a499ede"
      },
      "execution_count": null,
      "outputs": [
        {
          "output_type": "stream",
          "name": "stdout",
          "text": [
            "Os pontos totais doRodrigo são 24\n"
          ]
        }
      ]
    },
    {
      "cell_type": "markdown",
      "source": [
        "# **Aula** **3** ✨ ☄️"
      ],
      "metadata": {
        "id": "sp4wL4xVvtYo"
      }
    },
    {
      "cell_type": "code",
      "source": [
        "numero_de_alunos = int(input(\"Digite a quantidade de alunos: \"))\n",
        "numero_de_monitores = int(input(\"Digite a quantidade de monitores: \"))\n",
        "numero_de_professores = 8\n",
        "if numero_de_alunos + numero_de_monitores + numero_de_professores<= 50:\n",
        "  resposta_positiva = \"pode ir\"\n",
        "  resposta_negativa = \"não pode ir\" # Assign resposta_negativa here as well\n",
        "\n",
        "if numero_de_alunos + numero_de_monitores + numero_de_professores <= 50:\n",
        "  print(resposta_positiva)\n",
        "else:\n",
        "  print(resposta_negativa)"
      ],
      "metadata": {
        "id": "F5mbLZFrwbj9",
        "colab": {
          "base_uri": "https://localhost:8080/"
        },
        "outputId": "a0b20239-4a8c-4c91-ddec-962c09768ca1"
      },
      "execution_count": null,
      "outputs": [
        {
          "output_type": "stream",
          "name": "stdout",
          "text": [
            "Digite a quantidade de alunos: 300\n",
            "Digite a quantidade de monitores: 25\n",
            "não pode ir\n"
          ]
        }
      ]
    },
    {
      "cell_type": "markdown",
      "source": [
        "#**Aula** **4** 🫧🦋"
      ],
      "metadata": {
        "id": "QmYCG9kB1W48"
      }
    },
    {
      "cell_type": "code",
      "source": [
        "P = int(input(\"Digite a posição da porta P (0 ou 1): \"))\n",
        "R = int(input(\"Digite a posição da porta R (0 ou 1): \"))\n",
        "if P == 0:\n",
        "    print(\"C\")\n",
        "elif R == 1:\n",
        "    print(\"A\")\n",
        "else:\n",
        "    print(\"B\")"
      ],
      "metadata": {
        "id": "htYH0Rzk2Rwp"
      },
      "execution_count": null,
      "outputs": []
    },
    {
      "cell_type": "markdown",
      "source": [
        "# **Aula** **5** 💕🐼☘︎ **Tabuada**"
      ],
      "metadata": {
        "id": "Lygy6lof6tof"
      }
    },
    {
      "cell_type": "code",
      "source": [
        "def tabuada(numero):\n",
        "    for contador in range(1, 11):  # Gera números de 1 a 10\n",
        "        print(f\"{numero} x {contador} = {numero * contador}\")\n",
        "numero = int(input(\"Digite um número para ver sua tabuada: \"))\n",
        "tabuada(numero)"
      ],
      "metadata": {
        "id": "vVcBvl1a7Nih"
      },
      "execution_count": null,
      "outputs": []
    },
    {
      "cell_type": "markdown",
      "source": [
        "# **Aula** **6** **IMC**🍁🍂"
      ],
      "metadata": {
        "id": "DmsJ5wGR85R1"
      }
    },
    {
      "cell_type": "code",
      "source": [
        "peso = float(input(\"Digite seu peso (em kg): \"))\n",
        "altura = float(input(\"Digite sua altura (em metros): \"))\n",
        "imc = peso / (altura ** 2)\n",
        "print(f\"\\nSeu IMC é: {imc:.2f}\")\n",
        "if imc < 18.5:\n",
        "    print(\"Você está abaixo do peso.\")\n",
        "elif 18.5 <= imc < 25:\n",
        "    print(\"Você está no peso ideal.\")\n",
        "elif 25 <= imc < 30:\n",
        "    print(\"Você está com sobrepeso.\")\n",
        "else:\n",
        "    print(\"Você está acima do peso.\")"
      ],
      "metadata": {
        "id": "vvqTkCp78_ej",
        "colab": {
          "base_uri": "https://localhost:8080/"
        },
        "outputId": "aa832dc9-67b0-444f-ddc5-607ff5d38d5a"
      },
      "execution_count": null,
      "outputs": [
        {
          "output_type": "stream",
          "name": "stdout",
          "text": [
            "Digite seu peso (em kg): 59\n",
            "Digite sua altura (em metros): 1.73\n",
            "\n",
            "Seu IMC é: 19.71\n",
            "Você está no peso ideal.\n"
          ]
        }
      ]
    },
    {
      "cell_type": "markdown",
      "source": [
        "# **Aula 7** 🏖️🌊"
      ],
      "metadata": {
        "id": "k8jIDJix2D7X"
      }
    },
    {
      "cell_type": "code",
      "source": [
        "print(\"Sou seu assistente virtual, como posso ajudar? \\n\")\n",
        "nome = input(\"digite seu nome: \")\n",
        "print(\"Olá, \" + nome + \". Qual é a sua dúvida hoje?\" )"
      ],
      "metadata": {
        "colab": {
          "base_uri": "https://localhost:8080/"
        },
        "id": "7TVYinx92_u_",
        "outputId": "594e18e6-885e-4bbd-da6f-da976235f773"
      },
      "execution_count": null,
      "outputs": [
        {
          "output_type": "stream",
          "name": "stdout",
          "text": [
            "Sou seu assistente virtual, como posso ajudar? \n",
            "\n",
            "digite seu nome: ana\n",
            "Olá, ana. Qual é a sua dúvida hoje?\n"
          ]
        }
      ]
    },
    {
      "cell_type": "code",
      "source": [
        "print(\"Sou seu assistente virtual, como posso ajudar? \\n\")\n",
        "nome = input(\"digite seu nome: \")\n",
        "print(f\"Olá, {nome}. Qual é a sua dúvida hoje?\" )\n",
        "resposta = input(\"Qual o assunto que desja tratar: Matemática, Python, Javascript: \").lower()\n",
        "if resposta == \"python\":\n",
        " print(f\"Que bom, {nome}, vamos falar sobre Python. Python é como resolver problemas com clareza: simples na forma, mas poderoso nas possibilidades.\")\n",
        "elif resposta == \"javascript\":\n",
        " print(f\"Que bom, {nome}, vamos falar sobre Javascript. JavaScript é a arte de dar vida às páginas da web, transformando ideias estáticas em experiências interativas e dinâmicas.\")\n",
        "elif resposta == \"matematica\":\n",
        " print(f\"Que bom, {nome}, vamos falar sobre Matemática. A matemática é a linguagem com que o universo escreve suas leis e revela a harmonia oculta em tudo o que existe.\")\n",
        "else:\n",
        "  print(\"Desculpa, não sei tratar sobre esse assunto!\")"
      ],
      "metadata": {
        "colab": {
          "base_uri": "https://localhost:8080/"
        },
        "id": "tpTkyzaJ-Wzw",
        "outputId": "66ccf544-960e-4873-8bfc-188b5f6dd6c5"
      },
      "execution_count": 12,
      "outputs": [
        {
          "output_type": "stream",
          "name": "stdout",
          "text": [
            "Sou seu assistente virtual, como posso ajudar? \n",
            "\n",
            "digite seu nome: ana\n",
            "Olá, ana. Qual é a sua dúvida hoje?\n",
            "Qual o assunto que desja tratar: Matemática, Python, Javascript: portugues\n",
            "Desculpa, não sei tratar sobre esse assunto!\n"
          ]
        }
      ]
    },
    {
      "cell_type": "markdown",
      "source": [
        "# **Aula 8** 🧚🏻‍♀️🍀"
      ],
      "metadata": {
        "id": "vwlT1zOJB85q"
      }
    }
  ]
}